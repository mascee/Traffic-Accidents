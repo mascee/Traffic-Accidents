{
 "cells": [
  {
   "cell_type": "code",
   "execution_count": null,
   "metadata": {},
   "outputs": [],
   "source": [
    "# Import Dependencies\n",
    "import os\n",
    "import pandas as pd\n",
    "from pathlib import Path\n",
    "import matplotlib.pyplot as plt\n",
    "import folium\n",
    "from folium.plugins import MarkerCluster"
   ]
  },
  {
   "cell_type": "code",
   "execution_count": null,
   "metadata": {},
   "outputs": [],
   "source": [
    "#Read and print Accidents.csv\n",
    "US_Accidents_Path = Path(\"data/Accidents.csv\")\n",
    "US_Accidents_df = pd.read_csv(US_Accidents_Path)\n",
    "US_Accidents_df.head()"
   ]
  },
  {
   "cell_type": "code",
   "execution_count": null,
   "metadata": {},
   "outputs": [],
   "source": [
    "#Read Licenced_Drivers_clean.csv file and make data frame\n",
    "drivers_path = Path(\"data/Licensed_Drivers_clean.csv\")\n",
    "drivers_df = pd.read_csv(drivers_path)\n",
    "drivers_df = drivers_df.set_index('State')['Drivers']\n",
    "drivers_df.head()\n"
   ]
  },
  {
   "cell_type": "code",
   "execution_count": null,
   "metadata": {},
   "outputs": [],
   "source": [
    "#Calculating number of accidents in every state. Using only 2022.\n",
    "accidents_2022_df = US_Accidents_df[US_Accidents_df.Year == 2022]\n",
    "state_accidents = US_Accidents_df.groupby('State').size()\n",
    "\n",
    "state_accidents.head()"
   ]
  },
  {
   "cell_type": "code",
   "execution_count": null,
   "metadata": {},
   "outputs": [],
   "source": [
    "\n",
    "# Calculate accidents per driver per year\n",
    "state_accidents_per_driver = (state_accidents * 100) / drivers_df\n",
    "\n",
    "# Create a combined DataFrame\n",
    "df = pd.DataFrame({\n",
    "    \"Drivers\": drivers_df, \n",
    "    \"AccidentsPerDriverPerYear\": state_accidents_per_driver\n",
    "}).dropna()\n",
    "\n",
    "# Plotting\n",
    "plt.figure(figsize=(12, 10))\n",
    "plt.scatter(df['Drivers'], df['AccidentsPerDriverPerYear'])\n",
    "\n",
    "# Add state labels\n",
    "for state, row in df.iterrows():\n",
    "    drivers = row['Drivers']\n",
    "    accidents_per_driver = row['AccidentsPerDriverPerYear']\n",
    "    plt.text(drivers, accidents_per_driver, state, ha='right', va='bottom')\n",
    "\n",
    "plt.xlabel('Drivers (log scale)')\n",
    "plt.ylabel('Accidents per Driver per Year (%)')\n",
    "plt.xscale('log')\n",
    "\n",
    "plt.title(\"State Accidents per Driver in 2022\")\n",
    "plt.show()\n",
    "\n",
    "#Plotting accidents for every state divided by number of driver in the state\n",
    "# state_accidents_per_driver = (state_accidents * 100) / drivers_df\n",
    "\n",
    "# df = pd.DataFrame({\"Drivers\": drivers_df, \"AccidentsPerDriverPerYear\": state_accidents_per_driver}).dropna()\n",
    "\n",
    "# plt.figure(figsize=(16, 12))\n",
    "# plt.scatter(df.Drivers, df.AccidentsPerDriverPerYear)\n",
    "\n",
    "# for state in df.index:\n",
    "#     drivers = state_drivers[state]\n",
    "#     accidents_per_driver = state_accidents_per_driver[state]\n",
    "#     plt.text(drivers, accidents_per_driver, state, ha='right', va='bottom')\n",
    "\n",
    "# plt.xlabel('Drivers')\n",
    "# plt.ylabel('AccidentsPerDriver')\n",
    "# plt.xscale('log')\n",
    "\n",
    "# plt.show()\n"
   ]
  },
  {
   "cell_type": "code",
   "execution_count": null,
   "metadata": {},
   "outputs": [],
   "source": [
    "#Convert Start_Time column to date/time format\n",
    "US_Accidents_with_date = US_Accidents_df.copy()\n",
    "US_Accidents_with_date['Start_Time'] = pd.to_datetime(US_Accidents_with_date['Start_Time'], format='ISO8601')\n",
    "# Convert Start_Time to datetime format if it's not already\n",
    "US_Accidents_with_date['End_Time'] = pd.to_datetime(US_Accidents_with_date['End_Time'],format='ISO8601' )\n",
    "\n",
    "# Extract date without time and create a new column\n",
    "US_Accidents_with_date['Date'] = US_Accidents_with_date['Start_Time'].dt.date\n",
    "\n",
    "# Extract day of the week and create another new column\n",
    "US_Accidents_with_date['Week_Day'] = US_Accidents_with_date['Start_Time'].dt.day_name()\n",
    "\n",
    "US_Accidents_with_date.head()"
   ]
  },
  {
   "cell_type": "code",
   "execution_count": null,
   "metadata": {},
   "outputs": [],
   "source": [
    "#What days of the week accidents occur the most?\n",
    "# Group by 'Day_of_Week' and count occurrences\n",
    "day_counts = US_Accidents_with_date.groupby('Week_Day').size().reset_index(name='Count')\n",
    "\n",
    "# Sort the results by day of the week\n",
    "day_order = ['Monday', 'Tuesday', 'Wednesday', 'Thursday', 'Friday', 'Saturday', 'Sunday']\n",
    "day_counts['Week_Day'] = pd.Categorical(day_counts['Week_Day'], categories=day_order, ordered=True)\n",
    "day_counts = day_counts.sort_values('Week_Day')\n",
    "\n",
    "print(day_counts)"
   ]
  },
  {
   "cell_type": "code",
   "execution_count": null,
   "metadata": {},
   "outputs": [],
   "source": [
    "#Plot days of the week\n",
    "day_counts.plot(x='Week_Day', y='Count', kind='bar', figsize=(10, 6), color='skyblue')\n",
    "# Add titles and labels\n",
    "plt.title('Accident Counts by Day of the Week')\n",
    "plt.xlabel('Day of the Week')\n",
    "plt.ylabel('Number of Accidents')\n",
    "\n",
    "# Show the plot\n",
    "plt.xticks(rotation=45)\n",
    "plt.tight_layout()\n",
    "plt.show()\n"
   ]
  },
  {
   "cell_type": "code",
   "execution_count": null,
   "metadata": {},
   "outputs": [],
   "source": [
    "roundabout_counts = US_Accidents_df[\"Roundabout\"].value_counts()\n",
    "print(roundabout_counts)"
   ]
  },
  {
   "cell_type": "code",
   "execution_count": null,
   "metadata": {},
   "outputs": [],
   "source": [
    "#Do roundabouts help with reducing accidents?\n",
    "total_accidents = US_Accidents_with_date.shape[0]\n",
    "roundabout_accidents = US_Accidents_with_date[\"Roundabout\"].sum()\n",
    "print(f\"Number of accidents with roundabouts {roundabout_accidents}. Total accidents {total_accidents}\")\n",
    "percentage_roundabout = (roundabout_accidents / total_accidents) * 100\n",
    "percentage_no_roundabout = ((total_accidents - roundabout_accidents)/total_accidents)*100\n",
    "print (f\"Percentage of accidents with roundabouts is: {percentage_roundabout}%\")\n",
    "print (f\"Percentage of accidents without roundabouts is: {percentage_no_roundabout:.2f}%\")\n"
   ]
  },
  {
   "cell_type": "markdown",
   "metadata": {},
   "source": [
    "## 1. Weather and Environment\n",
    "# Does weather affect accident frequency(rain, fog, snow, wind)?\n",
    "# Grouping accidents by the state and certain point of time.\n",
    "# Trying to see if during one month in one state there is a difference in accidents during rain/snow and clear conditions.\n",
    "\n"
   ]
  },
  {
   "cell_type": "code",
   "execution_count": null,
   "metadata": {},
   "outputs": [],
   "source": [
    "#Figuring out how weather conditions affect accident frequesncy\n",
    "weather_grouped = US_Accidents_with_date.groupby(['Precipitation(in)', 'Date', 'State'])['ID'].count().reset_index(name='Accident_Count')\n",
    "weather_grouped.head()\n",
    "\n"
   ]
  },
  {
   "cell_type": "code",
   "execution_count": null,
   "metadata": {},
   "outputs": [],
   "source": [
    "# Sort by the 'Date' column\n",
    "weather_grouped_sorted = weather_grouped.sort_values(by='Date')\n",
    "weather_grouped_sorted.head()\n"
   ]
  },
  {
   "cell_type": "code",
   "execution_count": null,
   "metadata": {},
   "outputs": [],
   "source": [
    "WA = weather_grouped_sorted[weather_grouped_sorted['State'] == 'WA']\n",
    "WA.head()\n"
   ]
  },
  {
   "cell_type": "code",
   "execution_count": null,
   "metadata": {},
   "outputs": [],
   "source": [
    "# Assign color based on Precipitation(in) values: Blue if Precipitation is 0, Red if greater than 0\n",
    "WA['Color'] = WA['Precipitation(in)'].apply(\n",
    "    lambda x: 'blue' if x == 0 else 'red'\n",
    ")\n",
    "\n",
    "# Plot the bar chart for WA\n",
    "plt.figure(figsize=(10, 6))\n",
    "\n",
    "# Plot the bar chart, coloring bars based on precipitation\n",
    "plt.bar(WA['Date'], WA['Accident_Count'], color=WA['Color'])\n",
    "\n",
    "# Add labels and title\n",
    "plt.xlabel('Date')\n",
    "plt.ylabel('Accident Count')\n",
    "plt.title('Accidents in WA by Precipitation Levels')\n",
    "\n",
    "# Rotate x-axis labels for better readability\n",
    "plt.xticks(rotation=90)\n",
    "\n",
    "# Show the plot\n",
    "plt.show()\n"
   ]
  },
  {
   "cell_type": "code",
   "execution_count": null,
   "metadata": {},
   "outputs": [],
   "source": [
    "#Accidents during windy, rainy, foggy and snowy conditions\n",
    "windy_conditions = US_Accidents_df[US_Accidents_df['Weather_Condition'].str.contains('Windy', na=False)]\n",
    "rainy_conditions = US_Accidents_df[US_Accidents_df['Weather_Condition'].str.contains('Rain', na=False)]\n",
    "foggy_conditions = US_Accidents_df[US_Accidents_df['Weather_Condition'].str.contains('Fog', na=False)]\n",
    "snow_conditions = US_Accidents_df[US_Accidents_df['Weather_Condition'].str.contains('Snow', na=False)]"
   ]
  },
  {
   "cell_type": "code",
   "execution_count": null,
   "metadata": {},
   "outputs": [],
   "source": [
    "rainy_perc = (rainy_conditions[\"ID\"].count() / US_Accidents_df[\"ID\"].count())* 100\n",
    "windy_perc = (windy_conditions[\"ID\"].count() / US_Accidents_df[\"ID\"].count())* 100\n",
    "foggy_perc = (foggy_conditions[\"ID\"].count() / US_Accidents_df[\"ID\"].count())* 100\n",
    "snow_perc = (snow_conditions[\"ID\"].count() / US_Accidents_df[\"ID\"].count())* 100"
   ]
  },
  {
   "cell_type": "code",
   "execution_count": null,
   "metadata": {},
   "outputs": [],
   "source": [
    "print(f\"Occurance of accidents when its Raining : {rainy_perc:.2f}%\")\n",
    "print(f\"Occurance of accidents when its Windy : {windy_perc:.2f}%\")\n",
    "print(f\"Occurance of accidents when its Foggy : {foggy_perc:.2f}%\")\n",
    "print(f\"Occurance of accidents when its Snowing : {snow_perc:.2f}%\")"
   ]
  },
  {
   "cell_type": "code",
   "execution_count": null,
   "metadata": {},
   "outputs": [],
   "source": [
    "print(f\"Average severity of accidents when its Windy : {windy_conditions['Severity'].mean():.2f}\")\n",
    "print(f\"Average severity of accidents when its Rainy : {rainy_conditions['Severity'].mean():.2f}\")\n",
    "print(f\"Average severity of accidents when its Foggy : {foggy_conditions['Severity'].mean():.2f}\")\n",
    "print(f\"Average severity of accidents when its Snowing : {snow_conditions['Severity'].mean():.2f}\")\n",
    "\n"
   ]
  },
  {
   "cell_type": "markdown",
   "metadata": {},
   "source": [
    "## Visibility"
   ]
  },
  {
   "cell_type": "code",
   "execution_count": null,
   "metadata": {},
   "outputs": [],
   "source": [
    "#How visibility affects number of accidents\n",
    "visibility_counts = US_Accidents_with_date.groupby('Visibility(mi)')['ID'].count().reset_index()\n",
    "visibility_counts.columns = ['Visibility(mi)', 'Number of Accidents']\n",
    "visibility_counts = visibility_counts.sort_values(by='Visibility(mi)')\n",
    "\n",
    "# Create a bar chart for visibility counts\n",
    "visibility_counts.plot(x='Visibility(mi)', y='Number of Accidents', kind='bar', figsize=(10, 6), color='skyblue')\n",
    "\n",
    "# Add titles and labels\n",
    "plt.title('Number of Accidents by Visibility')\n",
    "plt.xlabel('Visibility (miles)')\n",
    "plt.ylabel('Number of Accidents')\n",
    "\n",
    "# Show the plot\n",
    "plt.xticks(rotation=45)\n",
    "plt.tight_layout()\n",
    "plt.show()"
   ]
  },
  {
   "cell_type": "code",
   "execution_count": null,
   "metadata": {},
   "outputs": [],
   "source": [
    "#Visibility chart logarithmic scale\n",
    "visibility_counts.plot(x='Visibility(mi)', y='Number of Accidents', kind='bar', figsize=(10, 6), color='skyblue', logy=True)\n",
    "\n",
    "# Add titles and labels\n",
    "plt.title('Number of Accidents by Visibility (Log Scale)')\n",
    "plt.xlabel('Visibility (miles)')\n",
    "plt.ylabel('Number of Accidents (Log Scale)')\n",
    "plt.xticks(rotation=45)\n",
    "plt.tight_layout()\n",
    "plt.show()\n"
   ]
  },
  {
   "cell_type": "code",
   "execution_count": null,
   "metadata": {},
   "outputs": [],
   "source": [
    "bins = [0, 0.3, 0.5, 1, 2, 3, 4, 5, 6, 7, 8, 9, 10, float('inf')]\n",
    "labels = ['0-0.3', '0.3-0.5', '0.5-1', '1-2', '2-3', '3-4', '4-5', '5-6', '6-7', '7-8', '8-9', '9-10', '10+']\n",
    "\n",
    "US_Accidents_with_date['Visibility Category'] = pd.cut(US_Accidents_with_date['Visibility(mi)'], bins=bins, labels=labels, right=False)\n",
    "\n",
    "visibility_accidents = US_Accidents_with_date.groupby('Visibility Category')['ID'].count().reset_index(name='Number of Accidents')\n",
    "\n",
    "print(visibility_accidents)\n"
   ]
  },
  {
   "cell_type": "code",
   "execution_count": null,
   "metadata": {},
   "outputs": [],
   "source": [
    "#Polt visibility accidents\n",
    "visibility_accidents.plot(x='Visibility Category', y='Number of Accidents', kind='bar', figsize=(10, 6), color='skyblue')\n",
    "plt.title('Number of Accidents by Visibility Range')\n",
    "plt.xlabel('Visibility Category')\n",
    "plt.ylabel('Number of Accidents')\n",
    "plt.xticks(rotation=45)\n",
    "plt.tight_layout()\n",
    "plt.show()"
   ]
  },
  {
   "cell_type": "code",
   "execution_count": null,
   "metadata": {},
   "outputs": [],
   "source": [
    "\n",
    "\n",
    "#Exclude 10 miles visibility\n",
    "US_Accidents_with_date['Visibility Category'] = pd.cut(\n",
    "    US_Accidents_with_date['Visibility(mi)'], \n",
    "    bins=bins, \n",
    "    labels=labels, \n",
    "    right=False\n",
    ")\n",
    "\n",
    "# Group by visibility category and count accidents\n",
    "visibility_accidents = US_Accidents_with_date.groupby('Visibility Category')['ID'].count().reset_index(name='Number of Accidents')\n",
    "\n",
    "# Print the result\n",
    "print(visibility_accidents)\n"
   ]
  },
  {
   "cell_type": "code",
   "execution_count": null,
   "metadata": {},
   "outputs": [],
   "source": [
    "\n",
    "# Bin the original data (including 10 miles)\n",
    "US_Accidents_with_date['Visibility Category'] = pd.cut(\n",
    "    US_Accidents_with_date['Visibility(mi)'], \n",
    "    bins=bins, \n",
    "    labels=labels, \n",
    "    right=False\n",
    ")\n",
    "\n",
    "# Group by visibility and calculate accidents\n",
    "visibility_accidents = US_Accidents_with_date.groupby('Visibility Category')['ID'].count().reset_index(name='Number of Accidents')\n",
    "\n",
    "# Smooth the data using a moving average\n",
    "visibility_accidents['Smoothed Accidents'] = visibility_accidents['Number of Accidents'].rolling(window=3, center=True).mean()\n",
    "\n",
    "# Plot both original and smoothed data\n",
    "plt.figure(figsize=(10, 6))\n",
    "plt.plot(\n",
    "    visibility_accidents['Visibility Category'], \n",
    "    visibility_accidents['Number of Accidents'], \n",
    "    marker='o', label='Original Data'\n",
    ")\n",
    "plt.plot(\n",
    "    visibility_accidents['Visibility Category'], \n",
    "    visibility_accidents['Smoothed Accidents'], \n",
    "    marker='o', label='Smoothed Data'\n",
    ")\n",
    "\n",
    "plt.title('Number of Accidents by Visibility Category', fontsize=14)\n",
    "plt.xlabel('Visibility Category (miles)', fontsize=12)\n",
    "plt.ylabel('Number of Accidents', fontsize=12)\n",
    "plt.xticks(rotation=45)\n",
    "plt.legend()\n",
    "plt.tight_layout()\n",
    "plt.show()\n"
   ]
  },
  {
   "cell_type": "code",
   "execution_count": null,
   "metadata": {},
   "outputs": [],
   "source": [
    "#Initiate map\n",
    "map = folium.Map(location=[US_Accidents_with_date['Start_Lat'].mean(), US_Accidents_with_date['Start_Lng'].mean()], zoom_start=6)\n",
    "# Add MarkerCluster to group points together\n",
    "marker_cluster = MarkerCluster().add_to(map)\n",
    "for idx, row in US_Accidents_with_date.iterrows():\n",
    "    folium.Marker(\n",
    "        location=[row['Start_Lat'], row['Start_Lng']],\n",
    "        popup=f\"Accident ID: {row['ID']}. Severity: {row['Severity']}\",\n",
    "        icon=folium.Icon(color='red', icon='info-sign')\n",
    "    ).add_to(marker_cluster)\n",
    "#Show the map\n",
    "map"
   ]
  }
 ],
 "metadata": {
  "kernelspec": {
   "display_name": "dev",
   "language": "python",
   "name": "python3"
  },
  "language_info": {
   "codemirror_mode": {
    "name": "ipython",
    "version": 3
   },
   "file_extension": ".py",
   "mimetype": "text/x-python",
   "name": "python",
   "nbconvert_exporter": "python",
   "pygments_lexer": "ipython3",
   "version": "3.10.14"
  }
 },
 "nbformat": 4,
 "nbformat_minor": 2
}
