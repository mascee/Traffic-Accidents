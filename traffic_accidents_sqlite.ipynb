{
 "cells": [
  {
   "cell_type": "code",
   "execution_count": 1,
   "metadata": {},
   "outputs": [],
   "source": [
    "#Import dependencies\n",
    "from sqlalchemy import create_engine\n",
    "import pandas as pd\n",
    "import os\n",
    "import sqlite3\n",
    "from pathlib import Path\n",
    "\n",
    "import sqlalchemy\n",
    "from sqlalchemy.ext.automap import automap_base\n",
    "from sqlalchemy.orm import Session\n",
    "from sqlalchemy import create_engine, func, inspect"
   ]
  },
  {
   "cell_type": "code",
   "execution_count": 2,
   "metadata": {},
   "outputs": [],
   "source": [
    "# File paths\n",
    "accidents_path = Path(\"data/Accidents.csv\")\n",
    "drivers_path = Path(\"data/Licensed_Drivers_clean.csv\")\n",
    "database_path = Path(\"data/traffic_accidents.sqlite\")"
   ]
  },
  {
   "cell_type": "code",
   "execution_count": 3,
   "metadata": {},
   "outputs": [],
   "source": [
    "# Load CSV files into DataFrames\n",
    "accidents_df = pd.read_csv(accidents_path)\n",
    "drivers_df = pd.read_csv(drivers_path)"
   ]
  },
  {
   "cell_type": "code",
   "execution_count": 4,
   "metadata": {},
   "outputs": [],
   "source": [
    "# Connect to SQLite database (or create it)\n",
    "conn = sqlite3.connect(database_path)"
   ]
  },
  {
   "cell_type": "code",
   "execution_count": 5,
   "metadata": {},
   "outputs": [
    {
     "data": {
      "text/plain": [
       "50"
      ]
     },
     "execution_count": 5,
     "metadata": {},
     "output_type": "execute_result"
    }
   ],
   "source": [
    "\n",
    "# Write DataFrames to SQLite\n",
    "accidents_df.to_sql(\"accidents\", conn, if_exists=\"replace\", index=False)\n",
    "drivers_df.to_sql(\"licensed_drivers\", conn, if_exists=\"replace\", index=False)"
   ]
  },
  {
   "cell_type": "code",
   "execution_count": 6,
   "metadata": {},
   "outputs": [
    {
     "name": "stdout",
     "output_type": "stream",
     "text": [
      "Tables created in SQLite database:\n",
      "               name\n",
      "0         accidents\n",
      "1  licensed_drivers\n"
     ]
    }
   ],
   "source": [
    "# Verify tables\n",
    "print(\"Tables created in SQLite database:\")\n",
    "print(pd.read_sql_query(\"SELECT name FROM sqlite_master WHERE type='table';\", conn))"
   ]
  },
  {
   "cell_type": "code",
   "execution_count": 7,
   "metadata": {},
   "outputs": [
    {
     "name": "stdout",
     "output_type": "stream",
     "text": [
      "\n",
      "Accidents Table:\n",
      "      ID  Severity           Start_Time             End_Time  Start_Lat  \\\n",
      "0  A-100         2  2016-02-11 08:13:24  2016-02-11 08:43:24  39.749916   \n",
      "1  A-200         2  2016-02-16 11:10:17  2016-02-16 11:40:17  39.791660   \n",
      "2  A-300         2  2016-02-19 16:16:51  2016-02-19 17:01:51  39.765259   \n",
      "3  A-400         3  2016-02-26 16:15:10  2016-02-26 16:45:10  39.914680   \n",
      "4  A-500         2  2016-03-04 14:55:55  2016-03-04 15:40:55  39.747753   \n",
      "\n",
      "   Start_Lng                                        Description  \\\n",
      "0 -84.139359  Accident on US-35 Westbound at Smithville Rd. ...   \n",
      "1 -84.169342  Accident on Kuntz Rd at Janney Rd. Expect delays.   \n",
      "2 -84.137802               Accident on Smithville Rd at 3rd St.   \n",
      "3 -83.016907      Accident on I-71 at Exit 104 OH-104 Frank Rd.   \n",
      "4 -84.205582                         Accident on US-35 at I-75.   \n",
      "\n",
      "          Street      City      County  ... Railway Roundabout Station Stop  \\\n",
      "0        US-35 E    Dayton  Montgomery  ...       0          0       0    0   \n",
      "1       Kuntz Rd    Dayton  Montgomery  ...       0          0       0    0   \n",
      "2  Smithville Rd    Dayton  Montgomery  ...       0          0       0    0   \n",
      "3         I-71 S  Columbus    Franklin  ...       0          0       0    0   \n",
      "4         I-75 S    Dayton  Montgomery  ...       0          0       0    0   \n",
      "\n",
      "   Traffic_Calming  Traffic_Signal  Turning_Loop  Sunrise_Sunset  \\\n",
      "0                0               0             0             Day   \n",
      "1                0               0             0             Day   \n",
      "2                0               1             0             Day   \n",
      "3                0               0             0             Day   \n",
      "4                0               0             0             Day   \n",
      "\n",
      "                  Date  Year  \n",
      "0  2016-02-11 08:13:24  2016  \n",
      "1  2016-02-16 11:10:17  2016  \n",
      "2  2016-02-19 16:16:51  2016  \n",
      "3  2016-02-26 16:15:10  2016  \n",
      "4  2016-03-04 14:55:55  2016  \n",
      "\n",
      "[5 rows x 39 columns]\n"
     ]
    }
   ],
   "source": [
    "# Preview data from both tables\n",
    "print(\"\\nAccidents Table:\")\n",
    "print(pd.read_sql_query(\"SELECT * FROM accidents LIMIT 5;\", conn))"
   ]
  },
  {
   "cell_type": "code",
   "execution_count": 8,
   "metadata": {},
   "outputs": [
    {
     "name": "stdout",
     "output_type": "stream",
     "text": [
      "\n",
      "Licensed Drivers Table:\n",
      "  State     Drivers\n",
      "0    AK    536033.0\n",
      "1    AL   3999057.0\n",
      "2    AR   2145334.0\n",
      "3    AZ   5284970.0\n",
      "4    CA  27039400.0\n"
     ]
    }
   ],
   "source": [
    "print(\"\\nLicensed Drivers Table:\")\n",
    "print(pd.read_sql_query(\"SELECT * FROM licensed_drivers LIMIT 5;\", conn))"
   ]
  },
  {
   "cell_type": "code",
   "execution_count": 9,
   "metadata": {},
   "outputs": [],
   "source": [
    "# Close the connection\n",
    "conn.close()"
   ]
  },
  {
   "cell_type": "code",
   "execution_count": 10,
   "metadata": {},
   "outputs": [],
   "source": [
    "# Create a SQLAlchemy engine\n",
    "engine = create_engine(\"sqlite:///data/traffic_accidents.sqlite\")"
   ]
  },
  {
   "cell_type": "code",
   "execution_count": 11,
   "metadata": {},
   "outputs": [
    {
     "name": "stdout",
     "output_type": "stream",
     "text": [
      "Accidents Table:\n",
      "      ID  Severity           Start_Time             End_Time  Start_Lat  \\\n",
      "0  A-100         2  2016-02-11 08:13:24  2016-02-11 08:43:24  39.749916   \n",
      "1  A-200         2  2016-02-16 11:10:17  2016-02-16 11:40:17  39.791660   \n",
      "2  A-300         2  2016-02-19 16:16:51  2016-02-19 17:01:51  39.765259   \n",
      "3  A-400         3  2016-02-26 16:15:10  2016-02-26 16:45:10  39.914680   \n",
      "4  A-500         2  2016-03-04 14:55:55  2016-03-04 15:40:55  39.747753   \n",
      "\n",
      "   Start_Lng                                        Description  \\\n",
      "0 -84.139359  Accident on US-35 Westbound at Smithville Rd. ...   \n",
      "1 -84.169342  Accident on Kuntz Rd at Janney Rd. Expect delays.   \n",
      "2 -84.137802               Accident on Smithville Rd at 3rd St.   \n",
      "3 -83.016907      Accident on I-71 at Exit 104 OH-104 Frank Rd.   \n",
      "4 -84.205582                         Accident on US-35 at I-75.   \n",
      "\n",
      "          Street      City      County  ... Railway Roundabout Station Stop  \\\n",
      "0        US-35 E    Dayton  Montgomery  ...       0          0       0    0   \n",
      "1       Kuntz Rd    Dayton  Montgomery  ...       0          0       0    0   \n",
      "2  Smithville Rd    Dayton  Montgomery  ...       0          0       0    0   \n",
      "3         I-71 S  Columbus    Franklin  ...       0          0       0    0   \n",
      "4         I-75 S    Dayton  Montgomery  ...       0          0       0    0   \n",
      "\n",
      "   Traffic_Calming  Traffic_Signal  Turning_Loop  Sunrise_Sunset  \\\n",
      "0                0               0             0             Day   \n",
      "1                0               0             0             Day   \n",
      "2                0               1             0             Day   \n",
      "3                0               0             0             Day   \n",
      "4                0               0             0             Day   \n",
      "\n",
      "                  Date  Year  \n",
      "0  2016-02-11 08:13:24  2016  \n",
      "1  2016-02-16 11:10:17  2016  \n",
      "2  2016-02-19 16:16:51  2016  \n",
      "3  2016-02-26 16:15:10  2016  \n",
      "4  2016-03-04 14:55:55  2016  \n",
      "\n",
      "[5 rows x 39 columns]\n"
     ]
    }
   ],
   "source": [
    "# Read the 'accidents' table\n",
    "accidents_query = \"SELECT * FROM accidents\"\n",
    "accidents_df = pd.read_sql(accidents_query, engine)\n",
    "print(\"Accidents Table:\")\n",
    "print(accidents_df.head())"
   ]
  },
  {
   "cell_type": "code",
   "execution_count": 12,
   "metadata": {},
   "outputs": [
    {
     "name": "stdout",
     "output_type": "stream",
     "text": [
      "\n",
      "Licensed Drivers Table:\n",
      "  State     Drivers\n",
      "0    AK    536033.0\n",
      "1    AL   3999057.0\n",
      "2    AR   2145334.0\n",
      "3    AZ   5284970.0\n",
      "4    CA  27039400.0\n"
     ]
    }
   ],
   "source": [
    "# Read the 'licensed_drivers' table\n",
    "drivers_query = \"SELECT * FROM licensed_drivers\"\n",
    "drivers_df = pd.read_sql(drivers_query, engine)\n",
    "print(\"\\nLicensed Drivers Table:\")\n",
    "print(drivers_df.head())"
   ]
  },
  {
   "cell_type": "code",
   "execution_count": 13,
   "metadata": {},
   "outputs": [
    {
     "name": "stdout",
     "output_type": "stream",
     "text": [
      "         City  num_accidents\n",
      "0           0              3\n",
      "1  Aaronsburg              1\n",
      "2   Abbeville              4\n",
      "3      Abbott              1\n",
      "4    Aberdeen             24\n"
     ]
    }
   ],
   "source": [
    "# SQL query to count accidents per city\n",
    "accidents_query = \"\"\"\n",
    "SELECT City, COUNT(*) AS num_accidents\n",
    "FROM accidents\n",
    "GROUP BY City\n",
    "\"\"\"\n",
    "\n",
    "# Execute the query and load it into a DataFrame\n",
    "accidents_df = pd.read_sql(accidents_query, engine)\n",
    "\n",
    "# Display the result\n",
    "print(accidents_df.head())"
   ]
  },
  {
   "cell_type": "code",
   "execution_count": 14,
   "metadata": {},
   "outputs": [
    {
     "name": "stdout",
     "output_type": "stream",
     "text": [
      "               Weather_Condition  Accident_Count\n",
      "0                   Fair / Windy             338\n",
      "1                        T-Storm             171\n",
      "2                 Cloudy / Windy             166\n",
      "3          Mostly Cloudy / Windy             156\n",
      "4          Partly Cloudy / Windy             108\n",
      "5                  Heavy T-Storm              89\n",
      "6             Light Rain / Windy              88\n",
      "7             Light Snow / Windy              70\n",
      "8   Light Thunderstorms and Rain              51\n",
      "9                   Thunderstorm              42\n",
      "10  Heavy Thunderstorms and Rain              20\n",
      "11                  Rain / Windy              19\n",
      "12                  Haze / Windy              16\n",
      "13        Thunderstorms and Rain              15\n",
      "14                  Snow / Windy              15\n",
      "15            Heavy Rain / Windy              12\n",
      "16          Blowing Snow / Windy              11\n",
      "17                  Blowing Snow              10\n",
      "18            Heavy Snow / Windy              10\n",
      "19               Thunder / Windy               9\n",
      "20         Heavy T-Storm / Windy               8\n",
      "21                   Fog / Windy               7\n",
      "22               T-Storm / Windy               6\n",
      "23            Wintry Mix / Windy               5\n",
      "24   Light Freezing Rain / Windy               2\n",
      "25                          Sand               2\n",
      "26               Widespread Dust               2\n",
      "27        Sand / Dust Whirlwinds               2\n",
      "28         Freezing Rain / Windy               1\n",
      "29         Light Drizzle / Windy               1\n",
      "30                 Sleet / Windy               1\n",
      "31               Drizzle / Windy               1\n",
      "32          Blowing Dust / Windy               1\n",
      "33  Light Snow and Sleet / Windy               1\n",
      "34        Snow and Sleet / Windy               1\n",
      "35  Thunder / Wintry Mix / Windy               1\n",
      "36                  Blowing Dust               1\n"
     ]
    }
   ],
   "source": [
    "# Load accidents table\n",
    "accidents_df = pd.read_sql(\"SELECT * FROM accidents\", engine)\n",
    "\n",
    "# Define a list of conditions to look for in the Weather_Condition column\n",
    "conditions = [\n",
    "    'Wind', 'Thunderstorm', 'Blowing', 'T-Storm', \n",
    "    'Funnel Cloud', 'Squalls', 'Sand', 'Dust'\n",
    "]\n",
    "\n",
    "# Create a mask to filter rows where 'Weather_Condition' contains any of the specified conditions\n",
    "condition_mask = accidents_df['Weather_Condition'].str.contains('|'.join(conditions), case=False, na=False)\n",
    "\n",
    "# Filter the accidents DataFrame to only include rows with the specified weather conditions\n",
    "filtered_df = accidents_df[condition_mask]\n",
    "\n",
    "# Count accidents by each weather condition\n",
    "accidents_per_condition = filtered_df['Weather_Condition'].value_counts().reset_index()\n",
    "accidents_per_condition.columns = ['Weather_Condition', 'Accident_Count']\n",
    "\n",
    "# Display the result\n",
    "print(accidents_per_condition)"
   ]
  }
 ],
 "metadata": {
  "kernelspec": {
   "display_name": "dev",
   "language": "python",
   "name": "python3"
  },
  "language_info": {
   "codemirror_mode": {
    "name": "ipython",
    "version": 3
   },
   "file_extension": ".py",
   "mimetype": "text/x-python",
   "name": "python",
   "nbconvert_exporter": "python",
   "pygments_lexer": "ipython3",
   "version": "3.10.14"
  }
 },
 "nbformat": 4,
 "nbformat_minor": 2
}
